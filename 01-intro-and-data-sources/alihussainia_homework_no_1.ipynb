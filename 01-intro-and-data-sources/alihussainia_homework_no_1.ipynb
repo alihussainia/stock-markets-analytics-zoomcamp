{
  "nbformat": 4,
  "nbformat_minor": 0,
  "metadata": {
    "colab": {
      "provenance": [],
      "collapsed_sections": [
        "Osix-9peoV2A",
        "BIYBjHWjjDHu",
        "Y3hK6Y4sedMd",
        "WTNN7_FbivvX",
        "7X0Y35Yukc8l",
        "J9WWnVpeS-uU",
        "0TXwZ75wRHOb",
        "WmddgAE0K6bk"
      ],
      "authorship_tag": "ABX9TyOsgmiIazqXCA1dAkHzW/sX",
      "include_colab_link": true
    },
    "kernelspec": {
      "name": "python3",
      "display_name": "Python 3"
    },
    "language_info": {
      "name": "python"
    }
  },
  "cells": [
    {
      "cell_type": "markdown",
      "metadata": {
        "id": "view-in-github",
        "colab_type": "text"
      },
      "source": [
        "<a href=\"https://colab.research.google.com/github/alihussainia/stock-markets-analytics-zoomcamp/blob/main/01-intro-and-data-sources/alihussainia_homework_no_1.ipynb\" target=\"_parent\"><img src=\"https://colab.research.google.com/assets/colab-badge.svg\" alt=\"Open In Colab\"/></a>"
      ]
    },
    {
      "cell_type": "markdown",
      "source": [
        "## Installs & Imports"
      ],
      "metadata": {
        "id": "Osix-9peoV2A"
      }
    },
    {
      "cell_type": "code",
      "execution_count": 103,
      "metadata": {
        "id": "sqsLPFmFfm0Z"
      },
      "outputs": [],
      "source": [
        "# install main library YFinance\n",
        "!pip install yfinance -q"
      ]
    },
    {
      "cell_type": "code",
      "source": [
        "# IMPORTS\n",
        "import numpy as np\n",
        "import pandas as pd\n",
        "\n",
        "#Fin Data Sources\n",
        "import yfinance as yf\n",
        "import pandas_datareader as pdr\n",
        "\n",
        "#Data viz\n",
        "import plotly.graph_objs as go\n",
        "import plotly.express as px\n",
        "import matplotlib.pyplot as plt\n",
        "\n",
        "import time\n",
        "from datetime import date, datetime"
      ],
      "metadata": {
        "id": "W7hARm5wo1WZ"
      },
      "execution_count": 104,
      "outputs": []
    },
    {
      "cell_type": "markdown",
      "source": [
        "## Question 1:\n",
        "#### [Macro] Average growth of GDP in 2023\n"
      ],
      "metadata": {
        "id": "BIYBjHWjjDHu"
      }
    },
    {
      "cell_type": "code",
      "source": [
        "start = datetime(2000, 1, 1)\n",
        "start = date(year=start.year, month=start.month, day=start.day)\n",
        "\n",
        "end = datetime(2023, 12, 31)\n",
        "end = date(year=end.year, month=end.month, day=end.day)\n",
        "print(f'Year = {end.year}; month= {end.month}; day={end.day}')\n",
        "\n",
        "print(f'Period for indexes: {start} to {end} ')"
      ],
      "metadata": {
        "id": "zfvLN8tTo2tQ"
      },
      "execution_count": null,
      "outputs": []
    },
    {
      "cell_type": "code",
      "source": [
        "# Real Gross Domestic Product (GDPC1)\n",
        "# https://fred.stlouisfed.org/series/GDPC1\n",
        "gdpc1 = pdr.DataReader(\"GDPC1\", \"fred\", start=start)"
      ],
      "metadata": {
        "id": "jrjoyrUApGaZ"
      },
      "execution_count": 106,
      "outputs": []
    },
    {
      "cell_type": "code",
      "source": [
        "gdpc1['gdpc1_us_yoy'] = gdpc1.GDPC1/gdpc1.GDPC1.shift(4)-1\n",
        "gdpc1['gdpc1_us_qoq'] = gdpc1.GDPC1/gdpc1.GDPC1.shift(4)-1"
      ],
      "metadata": {
        "id": "V8W6XZ0Tp0Vf"
      },
      "execution_count": 114,
      "outputs": []
    },
    {
      "cell_type": "code",
      "source": [
        "# Select all rows where the index (DATE) is in the year 2023\n",
        "gdp_2023 = gdpc1.loc[gdpc1.index.year == 2023]"
      ],
      "metadata": {
        "id": "uCjZUF4byueA"
      },
      "execution_count": 108,
      "outputs": []
    },
    {
      "cell_type": "code",
      "source": [
        "# Now, you can access the desired column, for example 'gdpc1_us_yoy'\n",
        "average_growth_2023 = round(gdp_2023['gdpc1_us_yoy'].mean()*100,1)\n",
        "print(f\"average_gdp_growth_2023: {average_growth_2023}%\")"
      ],
      "metadata": {
        "colab": {
          "base_uri": "https://localhost:8080/"
        },
        "id": "DwfnZbHYyugT",
        "outputId": "06d71416-07da-4992-d61b-72d693b58382"
      },
      "execution_count": 111,
      "outputs": [
        {
          "output_type": "stream",
          "name": "stdout",
          "text": [
            "average_gdp_growth_2023: 2.5%\n"
          ]
        }
      ]
    },
    {
      "cell_type": "markdown",
      "source": [
        "## Question 2:\n",
        "#### [Macro] Inverse \"Treasury Yield\""
      ],
      "metadata": {
        "id": "Y3hK6Y4sedMd"
      }
    },
    {
      "cell_type": "code",
      "source": [
        "# Fed rate https://fred.stlouisfed.org/series/DGS2\n",
        "# Fed rate https://fred.stlouisfed.org/series/DGS10\n",
        "fedfunds_DGS2 = pdr.DataReader(\"DGS2\", \"fred\", start=datetime(2000, 1, 1))\n",
        "fedfunds_DGS10 = pdr.DataReader(\"DGS10\", \"fred\", start=datetime(2000, 1, 1))"
      ],
      "metadata": {
        "id": "JulYYfiv2-lC"
      },
      "execution_count": 113,
      "outputs": []
    },
    {
      "cell_type": "code",
      "source": [
        "import pandas_datareader as pdr\n",
        "from datetime import datetime\n",
        "\n",
        "# Download DGS2 and DGS10 interest rates series from FRED\n",
        "dgs2 = pdr.DataReader(\"DGS2\", \"fred\", start=datetime(2000, 1, 1))\n",
        "dgs10 = pdr.DataReader(\"DGS10\", \"fred\", start=datetime(2000, 1, 1))\n",
        "\n",
        "# Join them together into one DataFrame based on the date\n",
        "combined_df = dgs10.join(dgs2, how='inner', lsuffix='_10', rsuffix='_2')\n",
        "\n",
        "# Calculate the difference between DGS10 and DGS2 daily\n",
        "combined_df['yield_spread'] = combined_df['DGS10'] - combined_df['DGS2']"
      ],
      "metadata": {
        "id": "D5M20yHO0WUq"
      },
      "execution_count": null,
      "outputs": []
    },
    {
      "cell_type": "code",
      "source": [
        "# Find the minimum value of the yield spread since year 2000\n",
        "min_yield_spread = round(combined_df['yield_spread'].min(),1)\n",
        "print(\"Minimum value of (dgs10 - dgs2) since year 2000: {}%\".format(min_yield_spread))"
      ],
      "metadata": {
        "colab": {
          "base_uri": "https://localhost:8080/"
        },
        "id": "Be9RqZIz1AJP",
        "outputId": "06d5984b-4070-48ef-91ed-6528473ae18e"
      },
      "execution_count": 112,
      "outputs": [
        {
          "output_type": "stream",
          "name": "stdout",
          "text": [
            "Minimum value of (dgs10 - dgs2) since year 2000: -1.1%\n"
          ]
        }
      ]
    },
    {
      "cell_type": "markdown",
      "source": [
        "## Question No. 3:\n",
        "#### [Index] Which Index is better recently?"
      ],
      "metadata": {
        "id": "WTNN7_FbivvX"
      }
    },
    {
      "cell_type": "code",
      "source": [
        "# INDEXES from Yahoo Finance\n",
        "sp500_data = yf.download(tickers = \"^GSPC\", period = \"max\", interval = \"1d\")\n",
        "ipc_mexico_data = yf.download(tickers = \"^MXX\", period = \"max\", interval = \"1d\")"
      ],
      "metadata": {
        "id": "p77OPE6D4t7p"
      },
      "execution_count": null,
      "outputs": []
    },
    {
      "cell_type": "code",
      "source": [
        "# Calculate 5-year growth for both indices\n",
        "start_date = datetime(2019, 4, 9)\n",
        "end_date = datetime(2024, 4, 9)"
      ],
      "metadata": {
        "id": "VRFVpwM_1qqi"
      },
      "execution_count": 157,
      "outputs": []
    },
    {
      "cell_type": "code",
      "source": [
        "# Calculate the price at the start and end of the 5-year period for both indices\n",
        "sp500_start_price = sp500_data.loc[start_date]['Close']\n",
        "sp500_end_price = sp500_data.loc[end_date]['Close']\n",
        "\n",
        "ipc_mexico_start_price = ipc_mexico_data.loc[start_date]['Close']\n",
        "ipc_mexico_end_price = ipc_mexico_data.loc[end_date]['Close']"
      ],
      "metadata": {
        "id": "-kVSgt0E3JN3"
      },
      "execution_count": 158,
      "outputs": []
    },
    {
      "cell_type": "code",
      "source": [
        "# Calculate the 5-year growth rate for both indices\n",
        "sp500_growth = round(((sp500_end_price / sp500_start_price) - 1) * 100,1)\n",
        "ipc_mexico_growth = round(((ipc_mexico_end_price / ipc_mexico_start_price) - 1) * 100,1)"
      ],
      "metadata": {
        "id": "LE7x5kdd6Qy6"
      },
      "execution_count": 159,
      "outputs": []
    },
    {
      "cell_type": "code",
      "source": [
        "sp500_growth > ipc_mexico_growth"
      ],
      "metadata": {
        "colab": {
          "base_uri": "https://localhost:8080/"
        },
        "id": "l1FctnUdjspB",
        "outputId": "06788c4c-579e-457c-ff29-340f690eb9df"
      },
      "execution_count": 160,
      "outputs": [
        {
          "output_type": "execute_result",
          "data": {
            "text/plain": [
              "True"
            ]
          },
          "metadata": {},
          "execution_count": 160
        }
      ]
    },
    {
      "cell_type": "code",
      "source": [
        "sp500_growth"
      ],
      "metadata": {
        "colab": {
          "base_uri": "https://localhost:8080/"
        },
        "id": "W-Mvh_40o9cg",
        "outputId": "0cefeff8-9a3f-4af5-b847-57f9510800cd"
      },
      "execution_count": 161,
      "outputs": [
        {
          "output_type": "execute_result",
          "data": {
            "text/plain": [
              "81.0"
            ]
          },
          "metadata": {},
          "execution_count": 161
        }
      ]
    },
    {
      "cell_type": "markdown",
      "source": [
        "## Question No. 4:\n",
        "#### [Stocks OHLCV] 52-weeks range ratio (2023) for the selected stocks\n"
      ],
      "metadata": {
        "id": "7X0Y35Yukc8l"
      }
    },
    {
      "cell_type": "code",
      "source": [
        "# Define the list of stock tickers\n",
        "stock_tickers = ['2222.SR', 'AAPL', 'BRK-B', 'GOOG', 'JPM', 'MSFT']\n",
        "\n",
        "# Define the start and end dates for the data\n",
        "start_date = datetime(2023, 1, 1)\n",
        "end_date = datetime(2023, 12, 31)\n",
        "\n",
        "# Download daily OHLCV data for each stock\n",
        "stock_data = yf.download(stock_tickers, start=start_date, end=end_date)"
      ],
      "metadata": {
        "id": "UE0Mv7k16eYS"
      },
      "execution_count": null,
      "outputs": []
    },
    {
      "cell_type": "code",
      "source": [
        "# Calculate maximum-minimum \"Adj. Close\" price for each stock\n",
        "max_min_adj_close = stock_data['Adj Close'].max() - stock_data['Adj Close'].min()\n",
        "\n",
        "# Calculate the maximum \"Adj. Close\" value for each stock\n",
        "max_adj_close = stock_data['Adj Close'].max()\n",
        "\n",
        "# Divide the maximum-minimum \"Adj. Close\" price by the maximum \"Adj. Close\" value\n",
        "result = max_min_adj_close / max_adj_close\n",
        "\n",
        "# Round the result to two decimal places\n",
        "rounded_result = round(result, 2)\n",
        "\n",
        "# Print the rounded result\n",
        "print(\"Maximum-Minimum 'Adj. Close' price divided by maximum 'Adj. Close' value:\")\n",
        "print(rounded_result)"
      ],
      "metadata": {
        "colab": {
          "base_uri": "https://localhost:8080/"
        },
        "id": "xFo7qcuv7Jiy",
        "outputId": "9ecf5ed3-cf58-4b4d-aaff-0f7400416e8b"
      },
      "execution_count": 141,
      "outputs": [
        {
          "output_type": "stream",
          "name": "stdout",
          "text": [
            "Maximum-Minimum 'Adj. Close' price divided by maximum 'Adj. Close' value:\n",
            "Ticker\n",
            "2222.SR    0.21\n",
            "AAPL       0.37\n",
            "BRK-B      0.21\n",
            "GOOG       0.39\n",
            "JPM        0.28\n",
            "MSFT       0.42\n",
            "dtype: float64\n"
          ]
        }
      ]
    },
    {
      "cell_type": "markdown",
      "source": [
        "## Question 5:\n",
        "#### [Stocks] Dividend Yield\n"
      ],
      "metadata": {
        "id": "J9WWnVpeS-uU"
      }
    },
    {
      "cell_type": "code",
      "source": [
        "SR=yf.download(\"2222.SR\", start='2023-01-01', end='2023-12-31', interval=\"1d\")\n",
        "BRK=yf.download(\"BRK-B\", start='2023-01-01', end='2023-12-31', interval=\"1d\")\n",
        "AAPL=yf.download(\"AAPL\", start='2023-01-01', end='2023-12-31', interval=\"1d\")\n",
        "MSFT=yf.download(\"MSFT\", start='2023-01-01', end='2023-12-31', interval=\"1d\")\n",
        "GOOG=yf.download(\"GOOG\", start='2023-01-01', end='2023-12-31', interval=\"1d\")\n",
        "JPM=yf.download(\"JPM\", start='2023-01-01', end='2023-12-31', interval=\"1d\")"
      ],
      "metadata": {
        "id": "9oXA4ffCB5Cy"
      },
      "execution_count": null,
      "outputs": []
    },
    {
      "cell_type": "code",
      "source": [
        "last_trading_day_adj_close = stock_data['Adj Close'].iloc[-1]"
      ],
      "metadata": {
        "id": "XmSZxmEDG279"
      },
      "execution_count": 139,
      "outputs": []
    },
    {
      "cell_type": "code",
      "source": [
        "# get actions, incl. dividends - as a dataFrame\n",
        "for idx, stock in enumerate(stock_tickers):\n",
        "\n",
        "  print(f\"{stock}_dividend_yield : \", \\\n",
        "        round(yf.Ticker(stock).get_dividends().loc[yf.Ticker(stock).get_dividends().index.year == 2023].sum() \\\n",
        "        / last_trading_day_adj_close[idx] * 100, 1))\n"
      ],
      "metadata": {
        "colab": {
          "base_uri": "https://localhost:8080/"
        },
        "id": "XZjFCOPDlKka",
        "outputId": "5b62a856-3ffb-42e5-c86b-b597e7ca15c9"
      },
      "execution_count": 136,
      "outputs": [
        {
          "output_type": "stream",
          "name": "stdout",
          "text": [
            "2222.SR_dividend_yield :  nan\n",
            "AAPL_dividend_yield :  0.5\n",
            "BRK-B_dividend_yield :  0.0\n",
            "GOOG_dividend_yield :  0.0\n",
            "JPM_dividend_yield :  2.4\n",
            "MSFT_dividend_yield :  0.7\n"
          ]
        }
      ]
    },
    {
      "cell_type": "markdown",
      "source": [
        "## Question 6:\n",
        "#### [Exploratory] Investigate new metrics"
      ],
      "metadata": {
        "id": "0TXwZ75wRHOb"
      }
    },
    {
      "cell_type": "code",
      "source": [
        "import yfinance as yf\n",
        "\n",
        "for ticker_symbol in stock_tickers:\n",
        "  # Download additional metrics and time series data using yfinance\n",
        "  company_data = yf.Ticker(ticker_symbol)\n",
        "\n",
        "  # Get Price-to-Earnings (P/E) ratio\n",
        "  pe_ratio = company_data.info['forwardPE']\n",
        "\n",
        "  # Get Price-to-Book (P/B) ratio\n",
        "  pb_ratio = company_data.info['priceToBook']\n",
        "\n",
        "  # Get Return on Equity (ROE)\n",
        "  roe = company_data.info['returnOnEquity']\n",
        "\n",
        "  # Get volatility (standard deviation of returns)\n",
        "  historical_data = company_data.history(period=\"5y\")\n",
        "  returns = historical_data['Close'].pct_change()\n",
        "  volatility = returns.std()\n",
        "\n",
        "  # Print the extracted metrics and time series\n",
        "  print(\"Metrics and Time Series Data for\", ticker_symbol)\n",
        "  print(\"P/E Ratio:\", pe_ratio)\n",
        "  print(\"P/B Ratio:\", pb_ratio)\n",
        "  print(\"ROE:\", roe)\n",
        "  print(\"Volatility (5-year Standard Deviation of Returns):\", volatility)\n",
        "  print(\"\")\n",
        "  print(\"\")"
      ],
      "metadata": {
        "id": "ZoxPedJTIt3q",
        "colab": {
          "base_uri": "https://localhost:8080/"
        },
        "outputId": "0242badd-84cc-4865-a1a0-d8c2c03d2c83"
      },
      "execution_count": 135,
      "outputs": [
        {
          "output_type": "stream",
          "name": "stdout",
          "text": [
            "Metrics and Time Series Data for 2222.SR\n",
            "P/E Ratio: 16.38587\n",
            "P/B Ratio: 4.753271\n",
            "ROE: 0.26725\n",
            "Volatility (5-year Standard Deviation of Returns): 0.011294516184419793\n",
            "\n",
            "\n",
            "Metrics and Time Series Data for AAPL\n",
            "P/E Ratio: 23.259466\n",
            "P/B Ratio: 34.600456\n",
            "ROE: 1.5426899\n",
            "Volatility (5-year Standard Deviation of Returns): 0.02005559715313083\n",
            "\n",
            "\n",
            "Metrics and Time Series Data for BRK-B\n",
            "P/E Ratio: 21.114668\n",
            "P/B Ratio: 0.0010501628\n",
            "ROE: 0.18461001\n",
            "Volatility (5-year Standard Deviation of Returns): 0.013585876227307487\n",
            "\n",
            "\n",
            "Metrics and Time Series Data for GOOG\n",
            "P/E Ratio: 20.12102\n",
            "P/B Ratio: 6.944994\n",
            "ROE: 0.27356002\n",
            "Volatility (5-year Standard Deviation of Returns): 0.02017933813444956\n",
            "\n",
            "\n",
            "Metrics and Time Series Data for JPM\n",
            "P/E Ratio: 11.493326\n",
            "P/B Ratio: 1.7732196\n",
            "ROE: 0.15741\n",
            "Volatility (5-year Standard Deviation of Returns): 0.020064970289755936\n",
            "\n",
            "\n",
            "Metrics and Time Series Data for MSFT\n",
            "P/E Ratio: 30.011976\n",
            "P/B Ratio: 12.50655\n",
            "ROE: 0.39174\n",
            "Volatility (5-year Standard Deviation of Returns): 0.019149472530825516\n",
            "\n",
            "\n"
          ]
        }
      ]
    },
    {
      "cell_type": "markdown",
      "source": [
        "## Question No. 7:\n",
        "\n",
        "#### [Exploratory] Time-driven strategy description around earnings releases"
      ],
      "metadata": {
        "id": "WmddgAE0K6bk"
      }
    },
    {
      "cell_type": "markdown",
      "source": [
        "An analytical strategy for selecting a subset of companies of interest based on future earnings release dates could involve a combination of quantitative analysis and qualitative assessment. Here's a description of the strategy:\n",
        "\n",
        "1. **Quantitative Analysis:**\n",
        "\n",
        "   a. **Earnings History:** Analyze the historical earnings performance of companies, including their earnings surprises, revenue growth, and earnings per share (EPS) trends over recent quarters. Companies consistently beating earnings estimates or showing strong revenue growth may be of interest.\n",
        "\n",
        "   b. **Market Reaction:** Assess how the market typically reacts to earnings releases for different companies. Look at historical price movements following earnings announcements, including the magnitude of price changes and the duration of any price trends.\n",
        "\n",
        "   c. **Volatility Patterns:** Examine volatility patterns around earnings dates, such as the average pre-earnings volatility and post-earnings volatility. Companies experiencing significant volatility leading up to earnings may present trading opportunities.\n",
        "\n",
        "2. **Qualitative Assessment:**\n",
        "\n",
        "   a. **Industry Trends:** Consider broader industry trends and sector performance to identify sectors with favorable outlooks or growth potential. Companies operating in sectors poised for growth may be prioritized.\n",
        "\n",
        "   b. **Company Fundamentals:** Evaluate fundamental factors such as market position, competitive advantages, product pipeline, and management quality. Companies with strong fundamentals may be more resilient to market volatility around earnings.\n",
        "\n",
        "   c. **Analyst Recommendations:** Review analyst recommendations and consensus estimates for upcoming earnings releases. Companies with positive analyst sentiment or upward revisions to earnings estimates may warrant closer attention.\n",
        "\n",
        "3. **Selection Criteria:**\n",
        "\n",
        "   Based on the quantitative analysis and qualitative assessment, establish selection criteria to identify companies of interest. This may include factors such as:\n",
        "   \n",
        "   - Consistently positive earnings surprises or revenue growth.\n",
        "   - Strong historical price performance following earnings announcements.\n",
        "   - Low pre-earnings volatility and potential for significant post-earnings price movements.\n",
        "   - Alignment with favorable industry trends and positive analyst sentiment.\n",
        "   - Sound fundamentals and competitive positioning within their respective markets.\n",
        "\n",
        "4. **Monitoring and Adjustment:**\n",
        "\n",
        "   Continuously monitor the market and update the selection criteria based on evolving market conditions, news events, and changes in company fundamentals. Adjust the subset of companies of interest as new information becomes available and market dynamics shift.\n",
        "\n",
        "By employing this analytical strategy, investors can identify a subset of companies poised for potential opportunities or risks around earnings releases and make informed investment decisions based on a comprehensive assessment of quantitative and qualitative factors."
      ],
      "metadata": {
        "id": "4KCssG4NK1QB"
      }
    },
    {
      "cell_type": "code",
      "source": [],
      "metadata": {
        "id": "bW2qXUixK1vq"
      },
      "execution_count": null,
      "outputs": []
    }
  ]
}